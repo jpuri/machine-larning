{
 "cells": [
  {
   "cell_type": "code",
   "execution_count": 1481,
   "id": "33501dcf-4cfe-42ab-a29c-de84869ecd56",
   "metadata": {},
   "outputs": [],
   "source": [
    "# import required libraries\n",
    "\n",
    "import numpy as np\n",
    "import yfinance as yf\n",
    "import pandas as pd\n",
    "from datetime import date"
   ]
  },
  {
   "cell_type": "code",
   "execution_count": 1482,
   "id": "ee248510-58e4-453a-bbb1-7fd90de0c777",
   "metadata": {},
   "outputs": [],
   "source": [
    "# cleanup data converting string values to numeric values\n",
    "\n",
    "def map_data(x):\n",
    "    x[0] = x[0] / 1000\n",
    "    x[4] = 1 if x[4].strip().lower() == 'yes' else 0\n",
    "    x[5] = 1 if x[5].strip().lower() == 'yes' else 0\n",
    "    x[6] = 1 if x[6].strip().lower() == 'yes' else 0\n",
    "    x[7] = 1 if x[7].strip().lower() == 'yes' else 0\n",
    "    x[8] = 1 if x[8].strip().lower() == 'yes' else 0\n",
    "    x[10] = 1 if x[10].strip().lower() == 'yes' else 0\n",
    "    x[11] = 1 if x[11].strip().lower() == 'furnished' else (2 if x[11].strip().lower() == 'semi-furnished' else 3)\n",
    "    return x"
   ]
  },
  {
   "cell_type": "code",
   "execution_count": 1483,
   "id": "c7655303-b923-4cad-802a-d57be7a60432",
   "metadata": {},
   "outputs": [],
   "source": [
    "# function to read data from csv and normalise it\n",
    "\n",
    "data=pd.read_csv(\"housing.csv\")\n",
    "\n",
    "# data.columns = data.columns.str.strip()\n",
    "# print(data.columns)\n",
    "\n",
    "X_orig = data[[\n",
    "    'area',\n",
    "    'bedrooms',\n",
    "    'bathrooms',\n",
    "    'stories',\n",
    "    'mainroad',\n",
    "    'guestroom',\n",
    "    'basement',\n",
    "    'hotwaterheating',\n",
    "    'airconditioning',\n",
    "    'parking',\n",
    "    'prefarea',\n",
    "    'furnishingstatus'\n",
    "]].values.tolist()\n",
    "\n",
    "X = list(map(map_data, X_orig))\n",
    "\n",
    "Y_orig = data[\"price\"].values.tolist()\n",
    "Y = list(map(lambda y: y/10000000, Y_orig))"
   ]
  },
  {
   "cell_type": "code",
   "execution_count": 1484,
   "id": "20238f2b-c84c-49e7-bc4d-da769d3048d7",
   "metadata": {},
   "outputs": [],
   "source": [
    "# initialise data structures\n",
    "\n",
    "num_iterations=10\n",
    "learning_rate=0.009\n",
    "\n",
    "n_h = 4\n",
    "\n",
    "X = np.array(X)\n",
    "X = X.reshape(12, X.shape[0])\n",
    "\n",
    "Y = np.array(Y)\n",
    "Y = Y.reshape(1, Y.shape[0])\n",
    "\n",
    "W1 = np.random.randn(n_h, X.shape[0]) * .001\n",
    "W2 = np.random.randn(1, n_h) * .001\n",
    "b1 = np.random.randn(1, Y.shape[1]) * .001\n",
    "b2 = np.random.randn(1, Y.shape[1]) * .001\n",
    "\n",
    "m = X.shape[1]"
   ]
  },
  {
   "cell_type": "code",
   "execution_count": 1485,
   "id": "7d1f98f2-3fb9-43a9-bb04-1c1752493eab",
   "metadata": {},
   "outputs": [
    {
     "name": "stdout",
     "output_type": "stream",
     "text": [
      "nan\n",
      "14.851369740554233\n",
      "11.394073281315533\n",
      "9.304101676656218\n",
      "7.769017531498902\n",
      "6.534012324110317\n",
      "5.485171247735128\n",
      "4.561272557543125\n",
      "3.725284117411376\n"
     ]
    },
    {
     "name": "stderr",
     "output_type": "stream",
     "text": [
      "/var/folders/lz/qsf8fmy912j5nsqynmqky7zc0000gn/T/ipykernel_69569/3055055526.py:22: RuntimeWarning: invalid value encountered in log\n",
      "  logprobs = np.multiply(np.log(A2),Y) + np.multiply(np.log(1 - A2),1 - Y)\n"
     ]
    }
   ],
   "source": [
    "# get parameteres to predict values\n",
    "\n",
    "for i in range(1, num_iterations):\n",
    "    Z1 = np.dot(W1, X) + b1\n",
    "    A1 = np.maximum(Z1, 0)\n",
    "    Z2 = np.dot(W2, A1) + b2\n",
    "    A2 = Z2\n",
    "\n",
    "    dZ2 = A2 - Y\n",
    "    dW2 = np.dot(dZ2, A1.T) / m\n",
    "    db2 = np.sum(dZ2, axis=1, keepdims = True) / m\n",
    "\n",
    "    dZ1 = np.dot(W2.T, dZ2) * (1 - np.power(A1, 2))\n",
    "    dW1 = np.dot(dZ1, X.T) / m\n",
    "    db1 = np.sum(dZ1, axis=1, keepdims = True) / m\n",
    "\n",
    "    W1 = W1 - learning_rate * (np.power(dW1, 2) / dW1)\n",
    "    b1 = b1 - learning_rate * (np.power(db1, 2) / db1)\n",
    "    W2 = W2 - learning_rate * (np.power(dW2, 2) / dW2)\n",
    "    b2 = b2 - learning_rate * (np.power(db2, 2) / db2)\n",
    "\n",
    "    logprobs = np.multiply(np.log(A2),Y) + np.multiply(np.log(1 - A2),1 - Y)\n",
    "    cost = - np.sum(logprobs) / m\n",
    "    print(cost)"
   ]
  },
  {
   "cell_type": "code",
   "execution_count": 1486,
   "id": "8b3218f5-70cd-4ba5-9ec8-5d52d69e6819",
   "metadata": {},
   "outputs": [],
   "source": [
    "def predict(values):\n",
    "    values = np.array(map_data(values)).reshape(12, 1)\n",
    "    return np.sum(np.dot(W2, np.dot(W1, values) + b1) + b2, axis=1) * 100000"
   ]
  },
  {
   "cell_type": "code",
   "execution_count": 1487,
   "id": "506f86ef-6d15-4859-8c66-5b409ea3ca31",
   "metadata": {},
   "outputs": [
    {
     "name": "stdout",
     "output_type": "stream",
     "text": [
      "[20300705.55033121]\n"
     ]
    }
   ],
   "source": [
    "print(predict([7420, 4, 2 , 3, 'Yes', 'No', 'No', 'No', 'Yes', 2, 'Yes' , 'Furnished']))"
   ]
  },
  {
   "cell_type": "code",
   "execution_count": 1488,
   "id": "f033d923-af2d-47ff-a4b0-f4d509f0f372",
   "metadata": {},
   "outputs": [
    {
     "name": "stdout",
     "output_type": "stream",
     "text": [
      "[20300975.83899189]\n"
     ]
    }
   ],
   "source": [
    "print(predict([8960, 4, 4 , 4, 'Yes', 'No', 'No', 'No', 'Yes', 3, 'No' , 'Furnished']))"
   ]
  }
 ],
 "metadata": {
  "kernelspec": {
   "display_name": "Python 3 (ipykernel)",
   "language": "python",
   "name": "python3"
  },
  "language_info": {
   "codemirror_mode": {
    "name": "ipython",
    "version": 3
   },
   "file_extension": ".py",
   "mimetype": "text/x-python",
   "name": "python",
   "nbconvert_exporter": "python",
   "pygments_lexer": "ipython3",
   "version": "3.12.4"
  }
 },
 "nbformat": 4,
 "nbformat_minor": 5
}
