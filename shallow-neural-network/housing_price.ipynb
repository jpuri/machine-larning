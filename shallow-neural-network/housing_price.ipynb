{
 "cells": [
  {
   "cell_type": "code",
   "execution_count": 300,
   "id": "33501dcf-4cfe-42ab-a29c-de84869ecd56",
   "metadata": {},
   "outputs": [],
   "source": [
    "# import required libraries\n",
    "\n",
    "import numpy as np\n",
    "import yfinance as yf\n",
    "import pandas as pd\n",
    "from datetime import date"
   ]
  },
  {
   "cell_type": "code",
   "execution_count": 301,
   "id": "ee248510-58e4-453a-bbb1-7fd90de0c777",
   "metadata": {},
   "outputs": [],
   "source": [
    "# cleanup data converting string values to numeric values\n",
    "\n",
    "def map_data(x):\n",
    "    x[0] = x[0] / 1000\n",
    "    x[4] = 1 if x[4].strip().lower() == 'yes' else 0\n",
    "    x[5] = 1 if x[5].strip().lower() == 'yes' else 0\n",
    "    x[6] = 1 if x[6].strip().lower() == 'yes' else 0\n",
    "    x[7] = 1 if x[7].strip().lower() == 'yes' else 0\n",
    "    x[8] = 1 if x[8].strip().lower() == 'yes' else 0\n",
    "    x[10] = 1 if x[10].strip().lower() == 'yes' else 0\n",
    "    x[11] = 1 if x[11].strip().lower() == 'furnished' else (2 if x[11].strip().lower() == 'semi-furnished' else 3)\n",
    "    return x"
   ]
  },
  {
   "cell_type": "code",
   "execution_count": 302,
   "id": "c7655303-b923-4cad-802a-d57be7a60432",
   "metadata": {},
   "outputs": [],
   "source": [
    "# function to read data from csv and normalise it\n",
    "\n",
    "def read_from_csv():\n",
    "    data=pd.read_csv(\"housing.csv\")\n",
    "    \n",
    "    # data.columns = data.columns.str.strip()\n",
    "    # print(data.columns)\n",
    "    \n",
    "    X_orig = data[[\n",
    "        'area',\n",
    "        'bedrooms',\n",
    "        'bathrooms',\n",
    "        'stories',\n",
    "        'mainroad',\n",
    "        'guestroom',\n",
    "        'basement',\n",
    "        'hotwaterheating',\n",
    "        'airconditioning',\n",
    "        'parking',\n",
    "        'prefarea',\n",
    "        'furnishingstatus'\n",
    "    ]].values.tolist()\n",
    "    \n",
    "    X = list(map(map_data, X_orig))\n",
    "    \n",
    "    Y = data[\"price\"].values.tolist()\n",
    "\n",
    "    return (X, Y)"
   ]
  },
  {
   "cell_type": "code",
   "execution_count": 303,
   "id": "7d7db4ae-f9e8-42b6-8caf-16feeeffe5e9",
   "metadata": {},
   "outputs": [],
   "source": [
    "# defining sigmoid function\n",
    "\n",
    "def sigmoid(z):\n",
    "    s = 1 / (1 + np.exp(-1 * z))\n",
    "    return s"
   ]
  },
  {
   "cell_type": "code",
   "execution_count": 304,
   "id": "20238f2b-c84c-49e7-bc4d-da769d3048d7",
   "metadata": {},
   "outputs": [],
   "source": [
    "# initialise data structures\n",
    "\n",
    "def init_data(X, Y):\n",
    "\n",
    "    num_iterations=2\n",
    "    learning_rate=0.009\n",
    "    \n",
    "    n_h = 4\n",
    "    \n",
    "    X = np.array(X)\n",
    "    X = X.reshape(12, X.shape[0])\n",
    "    \n",
    "    Y = np.array(Y)\n",
    "    Y = Y.reshape(1, Y.shape[0])\n",
    "    \n",
    "    W1 = np.random.randn(n_h, X.shape[0]) * .001\n",
    "    W2 = np.random.randn(1, n_h) * .001\n",
    "    b1 = np.random.randn(1, Y.shape[1]) * .001\n",
    "    b2 = np.random.randn(1, Y.shape[1]) * .001\n",
    "    \n",
    "    m = X.shape[1]\n",
    "\n",
    "    return (num_iterations, learning_rate, X, Y, W1, W2, b1, b2, m)"
   ]
  },
  {
   "cell_type": "code",
   "execution_count": 305,
   "id": "7d1f98f2-3fb9-43a9-bb04-1c1752493eab",
   "metadata": {},
   "outputs": [],
   "source": [
    "# get parameteres to predict values\n",
    "\n",
    "(X, Y) = read_from_csv()\n",
    "\n",
    "(num_iterations, learning_rate, X, Y, W1, W2, b1, b2, m) = init_data(X, Y)\n",
    "\n",
    "for i in range(1, num_iterations):\n",
    "    Z1 = np.dot(W1, X) + b1\n",
    "    A1 = Z1\n",
    "    Z2 = np.dot(W2, A1) + b2\n",
    "    A2 = Z2\n",
    "    \n",
    "    dZ2 = A2 - Y\n",
    "    dW2 = np.dot(dZ2, A1.T) / m\n",
    "    db2 = np.sum(dZ2, axis=1, keepdims = True) / m\n",
    "\n",
    "    dZ1 = np.dot(W2.T, dZ2) * (1 - np.power(A1, 2))\n",
    "    dW1 = np.dot(dZ1, X.T) / m\n",
    "    db1 = np.sum(dZ1, axis=1, keepdims = True) / m\n",
    "    \n",
    "    W1 = W1 - learning_rate * (np.power(dW1, 2) / dW1)\n",
    "    b1 = b1 - learning_rate * (np.power(db1, 2) / db1)\n",
    "    W2 = W2 - learning_rate * (np.power(dW2, 2) / dW2)\n",
    "    b2 = b2 - learning_rate * (np.power(db2, 2) / db2)"
   ]
  },
  {
   "cell_type": "code",
   "execution_count": 310,
   "id": "8b3218f5-70cd-4ba5-9ec8-5d52d69e6819",
   "metadata": {},
   "outputs": [],
   "source": [
    "def predict(values):\n",
    "    values = np.array(map_data(values)).reshape(12, 1)\n",
    "    return np.dot(W2, (np.dot(W1, values) + b1)) + b2"
   ]
  },
  {
   "cell_type": "code",
   "execution_count": 317,
   "id": "506f86ef-6d15-4859-8c66-5b409ea3ca31",
   "metadata": {},
   "outputs": [
    {
     "name": "stdout",
     "output_type": "stream",
     "text": [
      "[13505902.2634684]\n",
      "[11412500.24258532]\n"
     ]
    }
   ],
   "source": [
    "print(np.sum(predict([7420, 4, 2 , 3, 'Yes', 'No', 'No', 'No', 'Yes', 2, 'Yes' , 'Furnished']), axis=1))\n",
    "print(np.sum(predict([8960, 4, 4 , 4, 'Yes', 'No', 'No', 'No', 'Yes', 3, 'No' , 'Furnished']), axis=1))"
   ]
  }
 ],
 "metadata": {
  "kernelspec": {
   "display_name": "Python 3 (ipykernel)",
   "language": "python",
   "name": "python3"
  },
  "language_info": {
   "codemirror_mode": {
    "name": "ipython",
    "version": 3
   },
   "file_extension": ".py",
   "mimetype": "text/x-python",
   "name": "python",
   "nbconvert_exporter": "python",
   "pygments_lexer": "ipython3",
   "version": "3.12.4"
  }
 },
 "nbformat": 4,
 "nbformat_minor": 5
}
