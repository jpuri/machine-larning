{
 "cells": [
  {
   "cell_type": "code",
   "execution_count": 109,
   "id": "33501dcf-4cfe-42ab-a29c-de84869ecd56",
   "metadata": {},
   "outputs": [],
   "source": [
    "import numpy as np\n",
    "import yfinance as yf\n",
    "from datetime import date\n",
    "import pandas as pd"
   ]
  },
  {
   "cell_type": "code",
   "execution_count": 110,
   "id": "ee248510-58e4-453a-bbb1-7fd90de0c777",
   "metadata": {},
   "outputs": [],
   "source": [
    "def map_data(x):\n",
    "    x[4] = 1 if x[4].strip().lower() == 'yes' else 0\n",
    "    x[5] = 1 if x[5].strip().lower() == 'yes' else 0\n",
    "    x[6] = 1 if x[6].strip().lower() == 'yes' else 0\n",
    "    x[7] = 1 if x[7].strip().lower() == 'yes' else 0\n",
    "    x[8] = 1 if x[8].strip().lower() == 'yes' else 0\n",
    "    x[10] = 1 if x[10].strip().lower() == 'yes' else 0\n",
    "    x[11] = 1 if x[11].strip().lower() == 'furnished' else (2 if x[11].strip().lower() == 'semi-furnished' else 3)\n",
    "    return x"
   ]
  },
  {
   "cell_type": "code",
   "execution_count": 111,
   "id": "c7655303-b923-4cad-802a-d57be7a60432",
   "metadata": {},
   "outputs": [],
   "source": [
    "data=pd.read_csv(\"housing.csv\")\n",
    "\n",
    "# data.columns = data.columns.str.strip()\n",
    "# print(data.columns)\n",
    "\n",
    "X_orig = data[[\n",
    "    'area',\n",
    "    'bedrooms',\n",
    "    'bathrooms',\n",
    "    'stories',\n",
    "    'mainroad',\n",
    "    'guestroom',\n",
    "    'basement',\n",
    "    'hotwaterheating',\n",
    "    'airconditioning',\n",
    "    'parking',\n",
    "    'prefarea',\n",
    "    'furnishingstatus'\n",
    "]].values.tolist()\n",
    "\n",
    "X = list(map(map_data, X_orig))\n",
    "\n",
    "Y = data[\"price\"].values.tolist()"
   ]
  },
  {
   "cell_type": "code",
   "execution_count": 112,
   "id": "7d7db4ae-f9e8-42b6-8caf-16feeeffe5e9",
   "metadata": {},
   "outputs": [],
   "source": [
    "def sigmoid(z):\n",
    "    s = 1 / (1 + np.exp(-1 * z))\n",
    "    return s"
   ]
  },
  {
   "cell_type": "code",
   "execution_count": 113,
   "id": "20238f2b-c84c-49e7-bc4d-da769d3048d7",
   "metadata": {},
   "outputs": [],
   "source": [
    "num_iterations=100\n",
    "learning_rate=0.009\n",
    "\n",
    "n_h = 4\n",
    "\n",
    "X = np.array(X)\n",
    "X = X.reshape(12, X.shape[0])\n",
    "\n",
    "Y = np.array(Y)\n",
    "Y = Y.reshape(1, Y.shape[0])\n",
    "\n",
    "W1 = np.random.randn(n_h, X.shape[0]) * .001\n",
    "W2 = np.random.randn(1, X.shape[0]) * .001\n",
    "b1 = np.random.randn(1, Y.shape[0]) * .001\n",
    "b2 = np.random.randn(1, Y.shape[0]) * .001\n",
    "\n",
    "m = X.shape[1]"
   ]
  },
  {
   "cell_type": "code",
   "execution_count": 114,
   "id": "7d1f98f2-3fb9-43a9-bb04-1c1752493eab",
   "metadata": {},
   "outputs": [
    {
     "name": "stdout",
     "output_type": "stream",
     "text": [
      "(1, 12) (1, 545) (4, 545)\n"
     ]
    },
    {
     "ename": "ValueError",
     "evalue": "operands could not be broadcast together with shapes (12,545) (4,545) ",
     "output_type": "error",
     "traceback": [
      "\u001b[0;31m---------------------------------------------------------------------------\u001b[0m",
      "\u001b[0;31mValueError\u001b[0m                                Traceback (most recent call last)",
      "Cell \u001b[0;32mIn[114], line 12\u001b[0m\n\u001b[1;32m      9\u001b[0m db2 \u001b[38;5;241m=\u001b[39m np\u001b[38;5;241m.\u001b[39msum(dZ2, axis\u001b[38;5;241m=\u001b[39m\u001b[38;5;241m1\u001b[39m, keepdims \u001b[38;5;241m=\u001b[39m \u001b[38;5;28;01mTrue\u001b[39;00m) \u001b[38;5;241m/\u001b[39m m\n\u001b[1;32m     11\u001b[0m \u001b[38;5;28mprint\u001b[39m(W2\u001b[38;5;241m.\u001b[39mshape, dZ2\u001b[38;5;241m.\u001b[39mshape, A1\u001b[38;5;241m.\u001b[39mshape)\n\u001b[0;32m---> 12\u001b[0m dZ1 \u001b[38;5;241m=\u001b[39m \u001b[43mnp\u001b[49m\u001b[38;5;241;43m.\u001b[39;49m\u001b[43mdot\u001b[49m\u001b[43m(\u001b[49m\u001b[43mW2\u001b[49m\u001b[38;5;241;43m.\u001b[39;49m\u001b[43mT\u001b[49m\u001b[43m,\u001b[49m\u001b[43m \u001b[49m\u001b[43mdZ2\u001b[49m\u001b[43m)\u001b[49m\u001b[43m \u001b[49m\u001b[38;5;241;43m*\u001b[39;49m\u001b[43m \u001b[49m\u001b[43m(\u001b[49m\u001b[38;5;241;43m1\u001b[39;49m\u001b[43m \u001b[49m\u001b[38;5;241;43m-\u001b[39;49m\u001b[43m \u001b[49m\u001b[43mnp\u001b[49m\u001b[38;5;241;43m.\u001b[39;49m\u001b[43mpower\u001b[49m\u001b[43m(\u001b[49m\u001b[43mA1\u001b[49m\u001b[43m,\u001b[49m\u001b[43m \u001b[49m\u001b[38;5;241;43m2\u001b[39;49m\u001b[43m)\u001b[49m\u001b[43m)\u001b[49m\n\u001b[1;32m     13\u001b[0m dW1 \u001b[38;5;241m=\u001b[39m np\u001b[38;5;241m.\u001b[39mdot(dZ1, X\u001b[38;5;241m.\u001b[39mT) \u001b[38;5;241m/\u001b[39m m\n\u001b[1;32m     14\u001b[0m db1 \u001b[38;5;241m=\u001b[39m np\u001b[38;5;241m.\u001b[39msum(dZ1, axis\u001b[38;5;241m=\u001b[39m\u001b[38;5;241m1\u001b[39m, keepdims \u001b[38;5;241m=\u001b[39m \u001b[38;5;28;01mTrue\u001b[39;00m) \u001b[38;5;241m/\u001b[39m m\n",
      "\u001b[0;31mValueError\u001b[0m: operands could not be broadcast together with shapes (12,545) (4,545) "
     ]
    }
   ],
   "source": [
    "for i in range(1, num_iterations):\n",
    "    Z1 = np.dot(W1, X) + b1\n",
    "    A1 = np.tanh(Z1)\n",
    "    Z2 = np.dot(W2, X) + b2\n",
    "    A2 = sigmoid(Z2)\n",
    "    \n",
    "    dZ2 = A2 - Y\n",
    "    dW2 = np.dot(dZ2, A1.T) / m\n",
    "    db2 = np.sum(dZ2, axis=1, keepdims = True) / m\n",
    "\n",
    "    print(W2.shape, dZ2.shape, A1.shape)\n",
    "    dZ1 = np.dot(W2.T, dZ2) * (1 - np.power(A1, 2))\n",
    "    dW1 = np.dot(dZ1, X.T) / m\n",
    "    db1 = np.sum(dZ1, axis=1, keepdims = True) / m\n",
    "    \n",
    "    W1 = W1 - learning_rate * (np.power(dW1, 2) / dW1)\n",
    "    b1 = b1 - learning_rate * (np.power(db1, 2) / db1)\n",
    "    W2 = W2 - learning_rate * (np.power(dW2, 2) / dW2)\n",
    "    b2 = b2 - learning_rate * (np.power(db2, 2) / db2)\n",
    "\n",
    "print(W1, W2, b1, b2)"
   ]
  },
  {
   "cell_type": "code",
   "execution_count": null,
   "id": "916a33cd-3153-4330-a521-2a8d9cdd2c33",
   "metadata": {},
   "outputs": [],
   "source": [
    "num_iterations=100\n",
    "learning_rate=0.009\n",
    "\n",
    "X = np.array(X)\n",
    "X = X.reshape(9, X.shape[0])\n",
    "\n",
    "Y = np.array(Y)\n",
    "Y = Y.reshape(1, Y.shape[0])\n",
    "\n",
    "w = np.random.randn(X.shape[0], 1) * .001\n",
    "w = w.reshape(w.shape[0], 1)\n",
    "\n",
    "b = 0.0\n",
    "\n",
    "\n",
    "\n",
    "for i in range(1, num_iterations):\n",
    "    A = sigmoid(np.dot(w.T, X) + b)\n",
    "\n",
    "    dw = (1 / m) * np.dot(X, (A - Y).T)\n",
    "    db = (1 / m) * np.sum(A - Y).T\n",
    "\n",
    "    w = w - learning_rate * dw\n",
    "    b = b - learning_rate * db"
   ]
  },
  {
   "cell_type": "code",
   "execution_count": null,
   "id": "8b3218f5-70cd-4ba5-9ec8-5d52d69e6819",
   "metadata": {},
   "outputs": [],
   "source": [
    "def predict(values):\n",
    "    \n",
    "    v_mapped = []\n",
    "    for i in range(0, len(values)):\n",
    "        v_mapped.append(values[i] / X_orig[0][i] * 10)\n",
    "    return sigmoid(np.dot(w.T, v_mapped) + b)"
   ]
  },
  {
   "cell_type": "code",
   "execution_count": null,
   "id": "506f86ef-6d15-4859-8c66-5b409ea3ca31",
   "metadata": {},
   "outputs": [],
   "source": [
    "print(predict([1, 1, 1, 1, 1, 1, 1, 1, 1]))\n",
    "print(predict([0, 4100000, 12200000, 8, 417, 2700000, 2200000, 8800000, 3300000]))\n",
    "print(predict([8, 8700000, 33000000, 4, 678, 22500000, 14800000, 29200000, 4300000]))"
   ]
  }
 ],
 "metadata": {
  "kernelspec": {
   "display_name": "Python 3 (ipykernel)",
   "language": "python",
   "name": "python3"
  },
  "language_info": {
   "codemirror_mode": {
    "name": "ipython",
    "version": 3
   },
   "file_extension": ".py",
   "mimetype": "text/x-python",
   "name": "python",
   "nbconvert_exporter": "python",
   "pygments_lexer": "ipython3",
   "version": "3.12.4"
  }
 },
 "nbformat": 4,
 "nbformat_minor": 5
}
