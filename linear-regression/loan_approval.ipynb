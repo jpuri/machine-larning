{
 "cells": [
  {
   "cell_type": "code",
   "execution_count": 83,
   "id": "e4dfd68b-03ab-4581-9898-36d42993049b",
   "metadata": {},
   "outputs": [
    {
     "name": "stdout",
     "output_type": "stream",
     "text": [
      "Requirement already satisfied: numpy in /opt/homebrew/Cellar/jupyterlab/4.2.3/libexec/lib/python3.12/site-packages (2.1.0)\n",
      "Note: you may need to restart the kernel to use updated packages.\n"
     ]
    }
   ],
   "source": [
    "pip install numpy"
   ]
  },
  {
   "cell_type": "code",
   "execution_count": 84,
   "id": "87fe8f04-bd67-487f-b70f-0e90699c53db",
   "metadata": {},
   "outputs": [
    {
     "name": "stdout",
     "output_type": "stream",
     "text": [
      "Requirement already satisfied: yfinance in /opt/homebrew/Cellar/jupyterlab/4.2.3/libexec/lib/python3.12/site-packages (0.2.43)\n",
      "Requirement already satisfied: pandas>=1.3.0 in /opt/homebrew/Cellar/jupyterlab/4.2.3/libexec/lib/python3.12/site-packages (from yfinance) (2.2.2)\n",
      "Requirement already satisfied: numpy>=1.16.5 in /opt/homebrew/Cellar/jupyterlab/4.2.3/libexec/lib/python3.12/site-packages (from yfinance) (2.1.0)\n",
      "Requirement already satisfied: requests>=2.31 in /opt/homebrew/Cellar/jupyterlab/4.2.3/libexec/lib/python3.12/site-packages (from yfinance) (2.32.3)\n",
      "Requirement already satisfied: multitasking>=0.0.7 in /opt/homebrew/Cellar/jupyterlab/4.2.3/libexec/lib/python3.12/site-packages (from yfinance) (0.0.11)\n",
      "Requirement already satisfied: lxml>=4.9.1 in /opt/homebrew/Cellar/jupyterlab/4.2.3/libexec/lib/python3.12/site-packages (from yfinance) (5.3.0)\n",
      "Requirement already satisfied: platformdirs>=2.0.0 in /opt/homebrew/Cellar/jupyterlab/4.2.3/libexec/lib/python3.12/site-packages (from yfinance) (4.2.2)\n",
      "Requirement already satisfied: pytz>=2022.5 in /opt/homebrew/Cellar/jupyterlab/4.2.3/libexec/lib/python3.12/site-packages (from yfinance) (2024.1)\n",
      "Requirement already satisfied: frozendict>=2.3.4 in /opt/homebrew/Cellar/jupyterlab/4.2.3/libexec/lib/python3.12/site-packages (from yfinance) (2.4.4)\n",
      "Requirement already satisfied: peewee>=3.16.2 in /opt/homebrew/Cellar/jupyterlab/4.2.3/libexec/lib/python3.12/site-packages (from yfinance) (3.17.6)\n",
      "Requirement already satisfied: beautifulsoup4>=4.11.1 in /opt/homebrew/Cellar/jupyterlab/4.2.3/libexec/lib/python3.12/site-packages (from yfinance) (4.12.3)\n",
      "Requirement already satisfied: html5lib>=1.1 in /opt/homebrew/Cellar/jupyterlab/4.2.3/libexec/lib/python3.12/site-packages (from yfinance) (1.1)\n",
      "Requirement already satisfied: soupsieve>1.2 in /opt/homebrew/Cellar/jupyterlab/4.2.3/libexec/lib/python3.12/site-packages (from beautifulsoup4>=4.11.1->yfinance) (2.5)\n",
      "Requirement already satisfied: six>=1.9 in /opt/homebrew/Cellar/jupyterlab/4.2.3/libexec/lib/python3.12/site-packages (from html5lib>=1.1->yfinance) (1.16.0)\n",
      "Requirement already satisfied: webencodings in /opt/homebrew/Cellar/jupyterlab/4.2.3/libexec/lib/python3.12/site-packages (from html5lib>=1.1->yfinance) (0.5.1)\n",
      "Requirement already satisfied: python-dateutil>=2.8.2 in /opt/homebrew/Cellar/jupyterlab/4.2.3/libexec/lib/python3.12/site-packages (from pandas>=1.3.0->yfinance) (2.9.0.post0)\n",
      "Requirement already satisfied: tzdata>=2022.7 in /opt/homebrew/Cellar/jupyterlab/4.2.3/libexec/lib/python3.12/site-packages (from pandas>=1.3.0->yfinance) (2024.1)\n",
      "Requirement already satisfied: charset-normalizer<4,>=2 in /opt/homebrew/Cellar/jupyterlab/4.2.3/libexec/lib/python3.12/site-packages (from requests>=2.31->yfinance) (3.3.2)\n",
      "Requirement already satisfied: idna<4,>=2.5 in /opt/homebrew/Cellar/jupyterlab/4.2.3/libexec/lib/python3.12/site-packages (from requests>=2.31->yfinance) (3.7)\n",
      "Requirement already satisfied: urllib3<3,>=1.21.1 in /opt/homebrew/Cellar/jupyterlab/4.2.3/libexec/lib/python3.12/site-packages (from requests>=2.31->yfinance) (2.2.2)\n",
      "Requirement already satisfied: certifi>=2017.4.17 in /opt/homebrew/opt/certifi/lib/python3.12/site-packages (from requests>=2.31->yfinance) (2024.7.4)\n",
      "Note: you may need to restart the kernel to use updated packages.\n"
     ]
    }
   ],
   "source": [
    "pip install yfinance"
   ]
  },
  {
   "cell_type": "code",
   "execution_count": 85,
   "id": "5f056fb0-296c-4dc6-9f1b-12971c350819",
   "metadata": {},
   "outputs": [],
   "source": [
    "# import required libraries\n",
    "import numpy as np\n",
    "import yfinance as yf\n",
    "import pandas as pd\n",
    "from datetime import date"
   ]
  },
  {
   "cell_type": "code",
   "execution_count": 86,
   "id": "52e0c251-34cf-4ab3-ad20-56544387b2ee",
   "metadata": {},
   "outputs": [],
   "source": [
    "# Reading data from loan approval csv into python lists\n",
    "data=pd.read_csv(\"loan_approval_dataset.csv\")\n",
    "\n",
    "# check the columns in csv\n",
    "data.columns = data.columns.str.strip()\n",
    "# print(data.columns)\n",
    "\n",
    "X_original = data[[\n",
    "    'no_of_dependents',\n",
    "    'education',\n",
    "    'self_employed',\n",
    "    'income_annum',\n",
    "    'loan_amount',\n",
    "    'loan_term',\n",
    "    'cibil_score',\n",
    "    'residential_assets_value',\n",
    "    'commercial_assets_value',\n",
    "    'luxury_assets_value',\n",
    "    'bank_asset_value',\n",
    "]].values.tolist()\n",
    "\n",
    "X = X_original\n",
    "\n",
    "# code below normalises data\n",
    "X = []\n",
    "for row in X_original:\n",
    "    row[1] = 10 if row[1].strip().lower() == 'graduate' else 0\n",
    "    row[2] = 10 if row[2].strip().lower() == 'yes' else 0\n",
    "    row_new = []\n",
    "    for i in range(0, len(row)):\n",
    "        if (i < 1 or i > 2):\n",
    "            row_new.append(row[i] / X_original[0][i] * 10)\n",
    "        else:\n",
    "            row_new.append(row[i])\n",
    "    X.append(row_new)\n",
    "\n",
    "# reading loan approval status into Y as 1 or 0\n",
    "Y = data[\"loan_status\"].values.tolist()\n",
    "Y = list(map(lambda st: 1 if st.strip() == 'Approved' else 0, Y))"
   ]
  },
  {
   "cell_type": "code",
   "execution_count": 87,
   "id": "d6b2338f-6be8-4584-8c37-175a5be5e3c8",
   "metadata": {},
   "outputs": [],
   "source": [
    "# defining sigmoid function\n",
    "def sigmoid(z):\n",
    "    s = 1 / (1 + np.exp(-1 * z))\n",
    "    return s"
   ]
  },
  {
   "cell_type": "code",
   "execution_count": 88,
   "id": "034c4faf-681d-4170-8934-881591029201",
   "metadata": {},
   "outputs": [],
   "source": [
    "# initialise data\n",
    "\n",
    "num_iterations=100\n",
    "learning_rate=0.009\n",
    "\n",
    "# make X, Y numpy arrays for vectorisation\n",
    "X = np.array(X)\n",
    "X = X.reshape(11, X.shape[0])\n",
    "\n",
    "Y = np.array(Y)\n",
    "Y = Y.reshape(1, Y.shape[0])\n",
    "\n",
    "# initialise W with small random values\n",
    "W = np.random.randn(X.shape[0], 1) * .001\n",
    "W = W.reshape(W.shape[0], 1)\n",
    "\n",
    "# b initialised with 0\n",
    "b = 0.0\n",
    "\n",
    "# m is size of experimental set\n",
    "m = X.shape[1]"
   ]
  },
  {
   "cell_type": "code",
   "execution_count": 89,
   "id": "8240fcd1-18e0-4d53-9439-4c049696f0bd",
   "metadata": {},
   "outputs": [],
   "source": [
    "# iterate fine tuning W and b using derivative\n",
    "\n",
    "for i in range(1, num_iterations):\n",
    "    A = sigmoid(np.dot(W.T, X) + b)\n",
    "\n",
    "    dW = (1 / m) * np.dot(X, (A - Y).T)\n",
    "    db = (1 / m) * np.sum(A - Y).T\n",
    "\n",
    "    W = W - learning_rate * dW\n",
    "    b = b - learning_rate * db"
   ]
  },
  {
   "cell_type": "code",
   "execution_count": 90,
   "id": "ad15505a-edb4-4401-9e5f-6c2cf060cc3c",
   "metadata": {},
   "outputs": [],
   "source": [
    "# predict values using W and b\n",
    "def predict(values):\n",
    "    \n",
    "    v_mapped = []\n",
    "    for i in range(0, len(values)):\n",
    "        if (i < 1 or i > 2):\n",
    "            v_mapped.append(values[i] / X_original[0][i] * 10)\n",
    "        if (i == 1):\n",
    "            v_mapped.append(10 if values[1].strip().lower() == 'graduate' else 0)\n",
    "        if (i == 2):\n",
    "            v_mapped.append(10 if values[2].strip().lower() == 'yes' else 0)\n",
    "    return sigmoid(np.dot(W.T, v_mapped) + b)"
   ]
  },
  {
   "cell_type": "code",
   "execution_count": 91,
   "id": "a1522dbe-14ef-4f46-addb-694e87113335",
   "metadata": {},
   "outputs": [
    {
     "name": "stdout",
     "output_type": "stream",
     "text": [
      "[0.50673177]\n",
      "[0.56718224]\n",
      "[0.72065416]\n"
     ]
    }
   ],
   "source": [
    "print(predict([1, 'Gradulate', 'No', 1, 1, 1, 1, 1, 1, 1, 1]))\n",
    "print(predict([0, 'Not Gradulate', 'Yes', 4100000, 12200000, 8, 417, 2700000, 2200000, 8800000, 3300000]))\n",
    "print(predict([8, 'Gradulate', 'No', 8700000, 33000000, 4, 678, 22500000, 14800000, 29200000, 4300000]))"
   ]
  }
 ],
 "metadata": {
  "kernelspec": {
   "display_name": "Python 3 (ipykernel)",
   "language": "python",
   "name": "python3"
  },
  "language_info": {
   "codemirror_mode": {
    "name": "ipython",
    "version": 3
   },
   "file_extension": ".py",
   "mimetype": "text/x-python",
   "name": "python",
   "nbconvert_exporter": "python",
   "pygments_lexer": "ipython3",
   "version": "3.12.4"
  }
 },
 "nbformat": 4,
 "nbformat_minor": 5
}
