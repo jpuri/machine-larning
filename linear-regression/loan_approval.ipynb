{
 "cells": [
  {
   "cell_type": "code",
   "execution_count": 352,
   "id": "e4dfd68b-03ab-4581-9898-36d42993049b",
   "metadata": {},
   "outputs": [
    {
     "name": "stdout",
     "output_type": "stream",
     "text": [
      "Requirement already satisfied: numpy in /opt/homebrew/Cellar/jupyterlab/4.2.3/libexec/lib/python3.12/site-packages (2.1.0)\n",
      "Note: you may need to restart the kernel to use updated packages.\n"
     ]
    }
   ],
   "source": [
    "pip install numpy"
   ]
  },
  {
   "cell_type": "code",
   "execution_count": 353,
   "id": "87fe8f04-bd67-487f-b70f-0e90699c53db",
   "metadata": {},
   "outputs": [
    {
     "name": "stdout",
     "output_type": "stream",
     "text": [
      "Requirement already satisfied: yfinance in /opt/homebrew/Cellar/jupyterlab/4.2.3/libexec/lib/python3.12/site-packages (0.2.43)\n",
      "Requirement already satisfied: pandas>=1.3.0 in /opt/homebrew/Cellar/jupyterlab/4.2.3/libexec/lib/python3.12/site-packages (from yfinance) (2.2.2)\n",
      "Requirement already satisfied: numpy>=1.16.5 in /opt/homebrew/Cellar/jupyterlab/4.2.3/libexec/lib/python3.12/site-packages (from yfinance) (2.1.0)\n",
      "Requirement already satisfied: requests>=2.31 in /opt/homebrew/Cellar/jupyterlab/4.2.3/libexec/lib/python3.12/site-packages (from yfinance) (2.32.3)\n",
      "Requirement already satisfied: multitasking>=0.0.7 in /opt/homebrew/Cellar/jupyterlab/4.2.3/libexec/lib/python3.12/site-packages (from yfinance) (0.0.11)\n",
      "Requirement already satisfied: lxml>=4.9.1 in /opt/homebrew/Cellar/jupyterlab/4.2.3/libexec/lib/python3.12/site-packages (from yfinance) (5.3.0)\n",
      "Requirement already satisfied: platformdirs>=2.0.0 in /opt/homebrew/Cellar/jupyterlab/4.2.3/libexec/lib/python3.12/site-packages (from yfinance) (4.2.2)\n",
      "Requirement already satisfied: pytz>=2022.5 in /opt/homebrew/Cellar/jupyterlab/4.2.3/libexec/lib/python3.12/site-packages (from yfinance) (2024.1)\n",
      "Requirement already satisfied: frozendict>=2.3.4 in /opt/homebrew/Cellar/jupyterlab/4.2.3/libexec/lib/python3.12/site-packages (from yfinance) (2.4.4)\n",
      "Requirement already satisfied: peewee>=3.16.2 in /opt/homebrew/Cellar/jupyterlab/4.2.3/libexec/lib/python3.12/site-packages (from yfinance) (3.17.6)\n",
      "Requirement already satisfied: beautifulsoup4>=4.11.1 in /opt/homebrew/Cellar/jupyterlab/4.2.3/libexec/lib/python3.12/site-packages (from yfinance) (4.12.3)\n",
      "Requirement already satisfied: html5lib>=1.1 in /opt/homebrew/Cellar/jupyterlab/4.2.3/libexec/lib/python3.12/site-packages (from yfinance) (1.1)\n",
      "Requirement already satisfied: soupsieve>1.2 in /opt/homebrew/Cellar/jupyterlab/4.2.3/libexec/lib/python3.12/site-packages (from beautifulsoup4>=4.11.1->yfinance) (2.5)\n",
      "Requirement already satisfied: six>=1.9 in /opt/homebrew/Cellar/jupyterlab/4.2.3/libexec/lib/python3.12/site-packages (from html5lib>=1.1->yfinance) (1.16.0)\n",
      "Requirement already satisfied: webencodings in /opt/homebrew/Cellar/jupyterlab/4.2.3/libexec/lib/python3.12/site-packages (from html5lib>=1.1->yfinance) (0.5.1)\n",
      "Requirement already satisfied: python-dateutil>=2.8.2 in /opt/homebrew/Cellar/jupyterlab/4.2.3/libexec/lib/python3.12/site-packages (from pandas>=1.3.0->yfinance) (2.9.0.post0)\n",
      "Requirement already satisfied: tzdata>=2022.7 in /opt/homebrew/Cellar/jupyterlab/4.2.3/libexec/lib/python3.12/site-packages (from pandas>=1.3.0->yfinance) (2024.1)\n",
      "Requirement already satisfied: charset-normalizer<4,>=2 in /opt/homebrew/Cellar/jupyterlab/4.2.3/libexec/lib/python3.12/site-packages (from requests>=2.31->yfinance) (3.3.2)\n",
      "Requirement already satisfied: idna<4,>=2.5 in /opt/homebrew/Cellar/jupyterlab/4.2.3/libexec/lib/python3.12/site-packages (from requests>=2.31->yfinance) (3.7)\n",
      "Requirement already satisfied: urllib3<3,>=1.21.1 in /opt/homebrew/Cellar/jupyterlab/4.2.3/libexec/lib/python3.12/site-packages (from requests>=2.31->yfinance) (2.2.2)\n",
      "Requirement already satisfied: certifi>=2017.4.17 in /opt/homebrew/opt/certifi/lib/python3.12/site-packages (from requests>=2.31->yfinance) (2024.7.4)\n",
      "Note: you may need to restart the kernel to use updated packages.\n"
     ]
    }
   ],
   "source": [
    "pip install yfinance"
   ]
  },
  {
   "cell_type": "code",
   "execution_count": 354,
   "id": "5f056fb0-296c-4dc6-9f1b-12971c350819",
   "metadata": {},
   "outputs": [],
   "source": [
    "# import required libraries\n",
    "import numpy as np\n",
    "import yfinance as yf\n",
    "import pandas as pd\n",
    "from datetime import date"
   ]
  },
  {
   "cell_type": "code",
   "execution_count": 355,
   "id": "52e0c251-34cf-4ab3-ad20-56544387b2ee",
   "metadata": {},
   "outputs": [],
   "source": [
    "# Reading data from loan approval csv into python lists\n",
    "data=pd.read_csv(\"loan_approval_dataset.csv\")\n",
    "\n",
    "# check the columns in csv\n",
    "data.columns = data.columns.str.strip()\n",
    "# print(data.columns)\n",
    "\n",
    "X_original = data[[\n",
    "    'no_of_dependents',\n",
    "    'education',\n",
    "    'self_employed',\n",
    "    'income_annum',\n",
    "    'loan_amount',\n",
    "    'loan_term',\n",
    "    'cibil_score',\n",
    "    'residential_assets_value',\n",
    "    'commercial_assets_value',\n",
    "    'luxury_assets_value',\n",
    "    'bank_asset_value',\n",
    "]].values.tolist()\n",
    "\n",
    "X = X_original\n",
    "\n",
    "# code below normalises data\n",
    "X = []\n",
    "for row in X_original:\n",
    "    row[1] = 10 if row[1].strip().lower() == 'graduate' else 0\n",
    "    row[2] = 10 if row[2].strip().lower() == 'yes' else 0\n",
    "    row_new = []\n",
    "    for i in range(0, len(row)):\n",
    "        if (i < 1 or i > 2):\n",
    "            row_new.append(row[i] / X_original[0][i] * 10)\n",
    "        else:\n",
    "            row_new.append(row[i])\n",
    "    X.append(row_new)\n",
    "\n",
    "# reading loan approval status into Y as 1 or 0\n",
    "Y = data[\"loan_status\"].values.tolist()\n",
    "Y = list(map(lambda st: 1 if st.strip() == 'Approved' else 0, Y))"
   ]
  },
  {
   "cell_type": "code",
   "execution_count": 356,
   "id": "d6b2338f-6be8-4584-8c37-175a5be5e3c8",
   "metadata": {},
   "outputs": [],
   "source": [
    "# defining sigmoid function\n",
    "def sigmoid(z):\n",
    "    s = 1 / (1 + np.exp(-1 * z))\n",
    "    return s"
   ]
  },
  {
   "cell_type": "code",
   "execution_count": 357,
   "id": "034c4faf-681d-4170-8934-881591029201",
   "metadata": {},
   "outputs": [],
   "source": [
    "# initialise data\n",
    "\n",
    "num_iterations=100\n",
    "learning_rate=0.009\n",
    "\n",
    "# make X, Y numpy arrays for vectorisation\n",
    "X = np.array(X)\n",
    "X = X.reshape(11, X.shape[0])\n",
    "\n",
    "Y = np.array(Y)\n",
    "Y = Y.reshape(1, Y.shape[0])\n",
    "\n",
    "# initialise W with small random values\n",
    "W = np.random.randn(X.shape[0], 1) * .001\n",
    "W = W.reshape(W.shape[0], 1)\n",
    "\n",
    "# b initialised with 0\n",
    "b = 0.0\n",
    "\n",
    "# m is size of experimental set\n",
    "m = X.shape[1]"
   ]
  },
  {
   "cell_type": "code",
   "execution_count": 358,
   "id": "8240fcd1-18e0-4d53-9439-4c049696f0bd",
   "metadata": {},
   "outputs": [
    {
     "name": "stdout",
     "output_type": "stream",
     "text": [
      "Cost after step 1 = 0.6949294743112542\n",
      "Cost after step 2 = 0.6940291444083634\n",
      "Cost after step 3 = 0.6824551316337458\n",
      "Cost after step 4 = 0.6819717254396412\n",
      "Cost after step 5 = 0.6763079552153852\n",
      "Cost after step 6 = 0.6759058655828372\n",
      "Cost after step 7 = 0.6726829760228394\n",
      "Cost after step 8 = 0.6723282157963048\n",
      "Cost after step 9 = 0.6703397535670337\n",
      "Cost after step 10 = 0.6700323304512912\n",
      "Cost after step 11 = 0.6687417205545254\n",
      "Cost after step 12 = 0.6684812252346887\n",
      "Cost after step 13 = 0.6676139055644885\n",
      "Cost after step 14 = 0.667396977248569\n",
      "Cost after step 15 = 0.6667991511285264\n",
      "Cost after step 16 = 0.6666208096632137\n",
      "Cost after step 17 = 0.6662007228178786\n",
      "Cost after step 18 = 0.6660555202125755\n",
      "Cost after step 19 = 0.6657558364841148\n",
      "Cost after step 20 = 0.6656385056390246\n",
      "Cost after step 21 = 0.6654221051113891\n",
      "Cost after step 22 = 0.6653278675567612\n",
      "Cost after step 23 = 0.665170040600276\n",
      "Cost after step 24 = 0.6650947214270289\n",
      "Cost after step 25 = 0.664978648535917\n",
      "Cost after step 26 = 0.6649186892589153\n",
      "Cost after step 27 = 0.6648327117357133\n",
      "Cost after step 28 = 0.6647851321203216\n",
      "Cost after step 29 = 0.6647210466212065\n",
      "Cost after step 30 = 0.664683383618034\n",
      "Cost after step 31 = 0.6646353456524241\n",
      "Cost after step 32 = 0.6646055848604876\n",
      "Cost after step 33 = 0.6645693867003919\n",
      "Cost after step 34 = 0.6645458946583505\n",
      "Cost after step 35 = 0.6645184800417232\n",
      "Cost after step 36 = 0.6644999415927684\n",
      "Cost after step 37 = 0.6644790738574821\n",
      "Cost after step 38 = 0.6644644364955787\n",
      "Cost after step 39 = 0.664448468229253\n",
      "Cost after step 40 = 0.6644368939882782\n",
      "Cost after step 41 = 0.6644246050745747\n",
      "Cost after step 42 = 0.6644154297659189\n",
      "Cost after step 43 = 0.6644059122468541\n",
      "Cost after step 44 = 0.6643986114529555\n",
      "Cost after step 45 = 0.6643911868811718\n",
      "Cost after step 46 = 0.6643853479323076\n",
      "Cost after step 47 = 0.6643795075453628\n",
      "Cost after step 48 = 0.664374806657684\n",
      "Cost after step 49 = 0.6643701677543022\n",
      "Cost after step 50 = 0.664366351533358\n",
      "Cost after step 51 = 0.6643626254597297\n",
      "Cost after step 52 = 0.6643594960404036\n",
      "Cost after step 53 = 0.6643564645647076\n",
      "Cost after step 54 = 0.6643538677434317\n",
      "Cost after step 55 = 0.6643513655349034\n",
      "Cost after step 56 = 0.6643491813396353\n",
      "Cost after step 57 = 0.6643470829187323\n",
      "Cost after step 58 = 0.6643452181485628\n",
      "Cost after step 59 = 0.6643434281304077\n",
      "Cost after step 60 = 0.6643418104755369\n",
      "Cost after step 61 = 0.6643402562512244\n",
      "Cost after step 62 = 0.6643388296735512\n",
      "Cost after step 63 = 0.6643374559040748\n",
      "Cost after step 64 = 0.66433617701832\n",
      "Cost after step 65 = 0.6643349414814941\n",
      "Cost after step 66 = 0.6643337767270447\n",
      "Cost after step 67 = 0.6643326471778321\n",
      "Cost after step 68 = 0.6643315706132016\n",
      "Cost after step 69 = 0.6643305224054082\n",
      "Cost after step 70 = 0.6643295139913975\n",
      "Cost after step 71 = 0.664328528272921\n",
      "Cost after step 72 = 0.6643275725383211\n",
      "Cost after step 73 = 0.6643266348794987\n",
      "Cost after step 74 = 0.664325719885534\n",
      "Cost after step 75 = 0.6643248192352234\n",
      "Cost after step 76 = 0.6643239357728122\n",
      "Cost after step 77 = 0.6643230636629314\n",
      "Cost after step 78 = 0.6643222046310716\n",
      "Cost after step 79 = 0.6643213545698117\n",
      "Cost after step 80 = 0.6643205144946575\n",
      "Cost after step 81 = 0.6643196815031788\n",
      "Cost after step 82 = 0.6643188561662559\n",
      "Cost after step 83 = 0.6643180364246387\n",
      "Cost after step 84 = 0.6643172225756283\n",
      "Cost after step 85 = 0.6643164131521131\n",
      "Cost after step 86 = 0.6643156082870947\n",
      "Cost after step 87 = 0.664314806930879\n",
      "Cost after step 88 = 0.6643140091212028\n",
      "Cost after step 89 = 0.6643132141037851\n",
      "Cost after step 90 = 0.6643124218640695\n",
      "Cost after step 91 = 0.6643116318576983\n",
      "Cost after step 92 = 0.6643108440440473\n",
      "Cost after step 93 = 0.6643100580285569\n",
      "Cost after step 94 = 0.6643092737601018\n",
      "Cost after step 95 = 0.6643084909514736\n",
      "Cost after step 96 = 0.6643077095499135\n",
      "Cost after step 97 = 0.6643069293454762\n",
      "Cost after step 98 = 0.6643061502884956\n",
      "Cost after step 99 = 0.6643053722248747\n"
     ]
    }
   ],
   "source": [
    "# iterate fine tuning W and b using derivative\n",
    "\n",
    "for i in range(1, num_iterations):\n",
    "    A = sigmoid(np.dot(W.T, X) + b)\n",
    "\n",
    "    cost = (-1 / m) * np.sum((Y * np.log(A)) + (1 - Y) * np.log(1 - A))\n",
    "    print(f'Cost after step {i} = {cost}')\n",
    "\n",
    "    dW = (1 / m) * np.dot(X, (A - Y).T)\n",
    "    db = (1 / m) * np.sum(A - Y).T\n",
    "\n",
    "    W = W - learning_rate * dW\n",
    "    b = b - learning_rate * db"
   ]
  },
  {
   "cell_type": "code",
   "execution_count": 359,
   "id": "ad15505a-edb4-4401-9e5f-6c2cf060cc3c",
   "metadata": {},
   "outputs": [],
   "source": [
    "# predict values using W and b\n",
    "def predict(values):\n",
    "    \n",
    "    v_mapped = []\n",
    "    for i in range(0, len(values)):\n",
    "        if (i < 1 or i > 2):\n",
    "            v_mapped.append(values[i] / X_original[0][i] * 10)\n",
    "        if (i == 1):\n",
    "            v_mapped.append(10 if values[1].strip().lower() == 'graduate' else 0)\n",
    "        if (i == 2):\n",
    "            v_mapped.append(10 if values[2].strip().lower() == 'yes' else 0)\n",
    "    return sigmoid(np.dot(W.T, v_mapped) + b)"
   ]
  },
  {
   "cell_type": "code",
   "execution_count": 360,
   "id": "a1522dbe-14ef-4f46-addb-694e87113335",
   "metadata": {},
   "outputs": [
    {
     "name": "stdout",
     "output_type": "stream",
     "text": [
      "[0.50672927]\n",
      "[0.56717961]\n",
      "[0.72065144]\n"
     ]
    }
   ],
   "source": [
    "print(predict([1, 'Gradulate', 'No', 1, 1, 1, 1, 1, 1, 1, 1]))\n",
    "print(predict([0, 'Not Gradulate', 'Yes', 4100000, 12200000, 8, 417, 2700000, 2200000, 8800000, 3300000]))\n",
    "print(predict([8, 'Gradulate', 'No', 8700000, 33000000, 4, 678, 22500000, 14800000, 29200000, 4300000]))"
   ]
  }
 ],
 "metadata": {
  "kernelspec": {
   "display_name": "Python 3 (ipykernel)",
   "language": "python",
   "name": "python3"
  },
  "language_info": {
   "codemirror_mode": {
    "name": "ipython",
    "version": 3
   },
   "file_extension": ".py",
   "mimetype": "text/x-python",
   "name": "python",
   "nbconvert_exporter": "python",
   "pygments_lexer": "ipython3",
   "version": "3.12.4"
  }
 },
 "nbformat": 4,
 "nbformat_minor": 5
}
