{
 "cells": [
  {
   "cell_type": "code",
   "execution_count": 482,
   "id": "e4dfd68b-03ab-4581-9898-36d42993049b",
   "metadata": {},
   "outputs": [
    {
     "name": "stdout",
     "output_type": "stream",
     "text": [
      "Requirement already satisfied: numpy in /opt/homebrew/Cellar/jupyterlab/4.2.3/libexec/lib/python3.12/site-packages (2.1.0)\n",
      "Note: you may need to restart the kernel to use updated packages.\n"
     ]
    }
   ],
   "source": [
    "pip install numpy"
   ]
  },
  {
   "cell_type": "code",
   "execution_count": 483,
   "id": "5f056fb0-296c-4dc6-9f1b-12971c350819",
   "metadata": {},
   "outputs": [],
   "source": [
    "# import required libraries\n",
    "import numpy as np\n",
    "import pandas as pd"
   ]
  },
  {
   "cell_type": "code",
   "execution_count": 484,
   "id": "52e0c251-34cf-4ab3-ad20-56544387b2ee",
   "metadata": {},
   "outputs": [],
   "source": [
    "# Reading data from loan approval csv into python lists\n",
    "data=pd.read_csv(\"loan_approval_dataset.csv\")\n",
    "\n",
    "# check the columns in csv\n",
    "data.columns = data.columns.str.strip()\n",
    "# print(data.columns)\n",
    "\n",
    "X_original = data[[\n",
    "    'no_of_dependents',\n",
    "    'education',\n",
    "    'self_employed',\n",
    "    'income_annum',\n",
    "    'loan_amount',\n",
    "    'loan_term',\n",
    "    'cibil_score',\n",
    "    'residential_assets_value',\n",
    "    'commercial_assets_value',\n",
    "    'luxury_assets_value',\n",
    "    'bank_asset_value',\n",
    "]].values.tolist()\n",
    "\n",
    "X = X_original\n",
    "\n",
    "# code below normalises data\n",
    "X = []\n",
    "for row in X_original:\n",
    "    row[1] = 10 if row[1].strip().lower() == 'graduate' else 0\n",
    "    row[2] = 10 if row[2].strip().lower() == 'yes' else 0\n",
    "    row_new = []\n",
    "    for i in range(0, len(row)):\n",
    "        if (i < 1 or i > 2):\n",
    "            row_new.append(row[i] / X_original[0][i] * 10)\n",
    "        else:\n",
    "            row_new.append(row[i])\n",
    "    X.append(row_new)\n",
    "\n",
    "# reading loan approval status into Y as 1 or 0\n",
    "Y = data[\"loan_status\"].values.tolist()\n",
    "Y = list(map(lambda st: 1 if st.strip() == 'Approved' else 0, Y))"
   ]
  },
  {
   "cell_type": "code",
   "execution_count": 485,
   "id": "d6b2338f-6be8-4584-8c37-175a5be5e3c8",
   "metadata": {},
   "outputs": [],
   "source": [
    "# defining sigmoid function\n",
    "\n",
    "def sigmoid(Z):\n",
    "    A = 1 / (1 + np.exp(-Z))\n",
    "    return A"
   ]
  },
  {
   "cell_type": "code",
   "execution_count": 486,
   "id": "034c4faf-681d-4170-8934-881591029201",
   "metadata": {},
   "outputs": [],
   "source": [
    "# initialise data\n",
    "\n",
    "num_iterations=100\n",
    "learning_rate=0.009\n",
    "\n",
    "# make X, Y numpy arrays for vectorisation\n",
    "X = np.array(X)\n",
    "X = X.reshape(11, X.shape[0])\n",
    "\n",
    "Y = np.array(Y)\n",
    "Y = Y.reshape(1, Y.shape[0])\n",
    "\n",
    "# initialise W with small random values\n",
    "W = np.random.randn(X.shape[0], 1) * .001\n",
    "W = W.reshape(W.shape[0], 1)\n",
    "\n",
    "# b initialised with 0\n",
    "b = 0.0\n",
    "\n",
    "# m is size of experimental set\n",
    "m = X.shape[1]"
   ]
  },
  {
   "cell_type": "code",
   "execution_count": 487,
   "id": "8240fcd1-18e0-4d53-9439-4c049696f0bd",
   "metadata": {},
   "outputs": [
    {
     "name": "stdout",
     "output_type": "stream",
     "text": [
      "Cost after step 1 = 0.6869070562022176\n",
      "Cost after step 2 = 0.6862195637209966\n",
      "Cost after step 3 = 0.6786304665011934\n",
      "Cost after step 4 = 0.6781842126778586\n",
      "Cost after step 5 = 0.6740951152794937\n",
      "Cost after step 6 = 0.6737153667906202\n",
      "Cost after step 7 = 0.671268998900563\n",
      "Cost after step 8 = 0.6709389194017326\n",
      "Cost after step 9 = 0.6693826193227992\n",
      "Cost after step 10 = 0.6691009652612971\n",
      "Cost after step 11 = 0.6680697842389959\n",
      "Cost after step 12 = 0.6678338226881018\n",
      "Cost after step 13 = 0.6671304668193796\n",
      "Cost after step 14 = 0.6669355570393313\n",
      "Cost after step 15 = 0.6664452818714511\n",
      "Cost after step 16 = 0.6662859954913808\n",
      "Cost after step 17 = 0.6659384592519225\n",
      "Cost after step 18 = 0.665809362109396\n",
      "Cost after step 19 = 0.6655596957745554\n",
      "Cost after step 20 = 0.6654557557564502\n",
      "Cost after step 21 = 0.6652744399336562\n",
      "Cost after step 22 = 0.6651912017142164\n",
      "Cost after step 23 = 0.6650583318590066\n",
      "Cost after step 24 = 0.6649919625210854\n",
      "Cost after step 25 = 0.6648938474463562\n",
      "Cost after step 26 = 0.6648411147767654\n",
      "Cost after step 27 = 0.6647681821791545\n",
      "Cost after step 28 = 0.664726400619242\n",
      "Cost after step 29 = 0.6646718668344046\n",
      "Cost after step 30 = 0.6646388306147961\n",
      "Cost after step 31 = 0.6645978335555942\n",
      "Cost after step 32 = 0.6645717477545465\n",
      "Cost after step 33 = 0.6645407692377229\n",
      "Cost after step 34 = 0.6645201844552037\n",
      "Cost after step 35 = 0.6644966580903959\n",
      "Cost after step 36 = 0.6644804114991124\n",
      "Cost after step 37 = 0.6644624522539285\n",
      "Cost after step 38 = 0.6644496160836196\n",
      "Cost after step 39 = 0.6644358311915018\n",
      "Cost after step 40 = 0.6644256687270975\n",
      "Cost after step 41 = 0.6644150238960094\n",
      "Cost after step 42 = 0.6644069525369473\n",
      "Cost after step 43 = 0.6643986763093711\n",
      "Cost after step 44 = 0.664392236974625\n",
      "Cost after step 45 = 0.6643857517472482\n",
      "Cost after step 46 = 0.6643805838121011\n",
      "Cost after step 47 = 0.6643754556955864\n",
      "Cost after step 48 = 0.6643712766445982\n",
      "Cost after step 49 = 0.6643671787695762\n",
      "Cost after step 50 = 0.6643637678026342\n",
      "Cost after step 51 = 0.6643604533060908\n",
      "Cost after step 52 = 0.6643576382136271\n",
      "Cost after step 53 = 0.6643549202481341\n",
      "Cost after step 54 = 0.6643525669606183\n",
      "Cost after step 55 = 0.6643503038329834\n",
      "Cost after step 56 = 0.6643483081384861\n",
      "Cost after step 57 = 0.6643463922173044\n",
      "Cost after step 58 = 0.6643446732236175\n",
      "Cost after step 59 = 0.6643430226307011\n",
      "Cost after step 60 = 0.6643415176223826\n",
      "Cost after step 61 = 0.6643400699900878\n",
      "Cost after step 62 = 0.6643387303949039\n",
      "Cost after step 63 = 0.6643374381628716\n",
      "Cost after step 64 = 0.664336226396517\n",
      "Cost after step 65 = 0.6643350532596961\n",
      "Cost after step 66 = 0.6643339402631021\n",
      "Cost after step 67 = 0.6643328584835569\n",
      "Cost after step 68 = 0.6643318218045101\n",
      "Cost after step 69 = 0.6643308101731584\n",
      "Cost after step 70 = 0.6643298324744583\n",
      "Cost after step 71 = 0.6643288747630557\n",
      "Cost after step 72 = 0.6643279426640786\n",
      "Cost after step 73 = 0.6643270264478294\n",
      "Cost after step 74 = 0.6643261296261359\n",
      "Cost after step 75 = 0.6643252453870421\n",
      "Cost after step 76 = 0.6643243758824287\n",
      "Cost after step 77 = 0.6643235163256648\n",
      "Cost after step 78 = 0.6643226680015574\n",
      "Cost after step 79 = 0.6643218275337373\n",
      "Cost after step 80 = 0.6643209956607026\n",
      "Cost after step 81 = 0.6643201699913444\n",
      "Cost after step 82 = 0.6643193509252651\n",
      "Cost after step 83 = 0.6643185367621255\n",
      "Cost after step 84 = 0.664317727695676\n",
      "Cost after step 85 = 0.6643169225116803\n",
      "Cost after step 86 = 0.6643161212825134\n",
      "Cost after step 87 = 0.6643153231373452\n",
      "Cost after step 88 = 0.6643145280801165\n",
      "Cost after step 89 = 0.6643137354835736\n",
      "Cost after step 90 = 0.6643129453158299\n",
      "Cost after step 91 = 0.6643121571231171\n",
      "Cost after step 92 = 0.6643113708573296\n",
      "Cost after step 93 = 0.6643105861887879\n",
      "Cost after step 94 = 0.6643098030645604\n",
      "Cost after step 95 = 0.6643090212441056\n",
      "Cost after step 96 = 0.6643082406759423\n",
      "Cost after step 97 = 0.6643074611838365\n",
      "Cost after step 98 = 0.664306682720907\n",
      "Cost after step 99 = 0.6643059051575136\n"
     ]
    }
   ],
   "source": [
    "# iterate fine tuning W and b using derivative\n",
    "\n",
    "for i in range(1, num_iterations):\n",
    "    A = sigmoid(np.dot(W.T, X) + b)\n",
    "\n",
    "    cost = (-1 / m) * np.sum((Y * np.log(A)) + (1 - Y) * np.log(1 - A))\n",
    "    print(f'Cost after step {i} = {cost}')\n",
    "\n",
    "    dW = (1 / m) * np.dot(X, (A - Y).T)\n",
    "    db = (1 / m) * np.sum(A - Y).T\n",
    "\n",
    "    W = W - learning_rate * dW\n",
    "    b = b - learning_rate * db"
   ]
  },
  {
   "cell_type": "code",
   "execution_count": 488,
   "id": "ad15505a-edb4-4401-9e5f-6c2cf060cc3c",
   "metadata": {},
   "outputs": [],
   "source": [
    "# predict values using W and b\n",
    "\n",
    "def predict(values):\n",
    "    \n",
    "    v_mapped = []\n",
    "    for i in range(0, len(values)):\n",
    "        if (i < 1 or i > 2):\n",
    "            v_mapped.append(values[i] / X_original[0][i] * 10)\n",
    "        if (i == 1):\n",
    "            v_mapped.append(10 if values[1].strip().lower() == 'graduate' else 0)\n",
    "        if (i == 2):\n",
    "            v_mapped.append(10 if values[2].strip().lower() == 'yes' else 0)\n",
    "\n",
    "    print(v_mapped)\n",
    "    return sigmoid(np.dot(W.T, v_mapped) + b)"
   ]
  },
  {
   "cell_type": "code",
   "execution_count": 489,
   "id": "a1522dbe-14ef-4f46-addb-694e87113335",
   "metadata": {},
   "outputs": [
    {
     "name": "stdout",
     "output_type": "stream",
     "text": [
      "[5.0, 0, 0, 1.0416666666666667e-06, 3.34448160535117e-07, 0.8333333333333333, 0.012853470437017993, 4.166666666666667e-06, 5.681818181818182e-07, 4.4052863436123346e-07, 1.2499999999999999e-06]\n",
      "[0.50671498]\n",
      "[0.0, 0, 10, 4.270833333333333, 4.080267558528428, 6.666666666666666, 5.359897172236504, 11.25, 1.25, 3.8766519823788546, 4.125]\n",
      "[0.56716758]\n",
      "[40.0, 0, 0, 9.0625, 11.036789297658862, 3.333333333333333, 8.7146529562982, 93.75, 8.40909090909091, 12.863436123348018, 5.375]\n",
      "[0.72064649]\n"
     ]
    }
   ],
   "source": [
    "print(predict([0, 'Not Gradulate', 'Yes', 4100000, 12200000, 8, 417, 2700000, 2200000, 8800000, 3300000]))\n",
    "print(predict([8, 'Gradulate', 'No', 8700000, 33000000, 4, 678, 22500000, 14800000, 29200000, 4300000]))"
   ]
  },
  {
   "cell_type": "code",
   "execution_count": null,
   "id": "163a3057-8510-4298-b8e3-e762652df4d6",
   "metadata": {},
   "outputs": [],
   "source": []
  },
  {
   "cell_type": "code",
   "execution_count": null,
   "id": "caf7de94-c42f-40f5-93d1-6cb6933efafb",
   "metadata": {},
   "outputs": [],
   "source": []
  },
  {
   "cell_type": "code",
   "execution_count": null,
   "id": "7814144c-1732-4290-b238-c8fe5c9900d6",
   "metadata": {},
   "outputs": [],
   "source": []
  },
  {
   "cell_type": "code",
   "execution_count": null,
   "id": "ac2dd186-d54d-4213-8594-7993a7ea811b",
   "metadata": {},
   "outputs": [],
   "source": []
  },
  {
   "cell_type": "code",
   "execution_count": null,
   "id": "30d939c3-cb7c-4354-b674-025f7283d76c",
   "metadata": {},
   "outputs": [],
   "source": []
  },
  {
   "cell_type": "code",
   "execution_count": null,
   "id": "4dd8e8f3-50d6-42f9-98e3-5b44d03bf132",
   "metadata": {},
   "outputs": [],
   "source": []
  }
 ],
 "metadata": {
  "kernelspec": {
   "display_name": "Python 3 (ipykernel)",
   "language": "python",
   "name": "python3"
  },
  "language_info": {
   "codemirror_mode": {
    "name": "ipython",
    "version": 3
   },
   "file_extension": ".py",
   "mimetype": "text/x-python",
   "name": "python",
   "nbconvert_exporter": "python",
   "pygments_lexer": "ipython3",
   "version": "3.12.4"
  }
 },
 "nbformat": 4,
 "nbformat_minor": 5
}
