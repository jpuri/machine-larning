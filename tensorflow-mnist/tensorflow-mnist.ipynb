{
 "cells": [
  {
   "cell_type": "code",
   "execution_count": 31,
   "id": "33501dcf-4cfe-42ab-a29c-de84869ecd56",
   "metadata": {},
   "outputs": [],
   "source": [
    "# imstall / import required libraries\n",
    "\n",
    "import os\n",
    "import base64\n",
    "import numpy as np\n",
    "import tensorflow as tf"
   ]
  },
  {
   "cell_type": "code",
   "execution_count": 32,
   "id": "ee248510-58e4-453a-bbb1-7fd90de0c777",
   "metadata": {},
   "outputs": [
    {
     "name": "stdout",
     "output_type": "stream",
     "text": [
      "(60000, 28, 28) (10000, 28, 28)\n"
     ]
    }
   ],
   "source": [
    "# load data\n",
    "\n",
    "current_dir = os.getcwd()\n",
    "\n",
    "data_path = os.path.join(current_dir, \"mnist.npz\")\n",
    "\n",
    "(training_images, training_labels), (testing_images, testing_labels) = tf.keras.datasets.mnist.load_data(path=data_path)\n",
    "\n",
    "print(training_images.shape, testing_images.shape)"
   ]
  },
  {
   "cell_type": "code",
   "execution_count": 33,
   "id": "60beace2-77f8-43d8-a909-2370f1a6e517",
   "metadata": {},
   "outputs": [
    {
     "name": "stdout",
     "output_type": "stream",
     "text": [
      "(60000, 28, 28, 1) (10000, 28, 28, 1)\n"
     ]
    }
   ],
   "source": [
    "# normalise data\n",
    "\n",
    "training_images = training_images.reshape(60000, 28, 28, 1)\n",
    "\n",
    "training_images = training_images / 255\n",
    "\n",
    "testing_images = testing_images.reshape(10000, 28, 28, 1)\n",
    "\n",
    "testing_images = testing_images / 255\n",
    "\n",
    "print(training_images.shape, testing_images.shape)"
   ]
  },
  {
   "cell_type": "code",
   "execution_count": 34,
   "id": "03a13697-7ce1-4e2c-b0e9-8dc6047231fb",
   "metadata": {},
   "outputs": [],
   "source": [
    "# callback to stop training early\n",
    "\n",
    "class EarlyStoppingCallback(tf.keras.callbacks.Callback):\n",
    "\n",
    "    def on_epoch_end(self, epoch, logs=None):\n",
    "\n",
    "        if logs['accuracy'] >= 0.995:\n",
    "\n",
    "            self.model.stop_training = True\n",
    "\n",
    "            print(\"\\nReached > 0.995% accuracy thus stopping training.\")"
   ]
  },
  {
   "cell_type": "code",
   "execution_count": 35,
   "id": "c3f3c14a-d575-4b84-bde3-7798bdb26479",
   "metadata": {},
   "outputs": [],
   "source": [
    "# create model\n",
    "\n",
    "model = tf.keras.models.Sequential([\n",
    "    tf.keras.Input(shape=(28,28,1)),\n",
    "    tf.keras.layers.Conv2D(128,(6,6), activation='relu'),\n",
    "    tf.keras.layers.MaxPooling2D(4,4),\n",
    "    tf.keras.layers.Flatten(),\n",
    "    tf.keras.layers.Dense(128,activation='relu'),\n",
    "    tf.keras.layers.Dense(128,activation='softmax')\n",
    "])\n",
    "\n",
    "model.compile(\n",
    "    optimizer='adam',\n",
    "    loss='sparse_categorical_crossentropy',\n",
    "    metrics=['accuracy']\n",
    ")"
   ]
  },
  {
   "cell_type": "code",
   "execution_count": 36,
   "id": "536b0c15-3a11-4915-a082-3d7379dd15a3",
   "metadata": {},
   "outputs": [
    {
     "name": "stdout",
     "output_type": "stream",
     "text": [
      "Epoch 1/50\n",
      "\u001b[1m1875/1875\u001b[0m \u001b[32m━━━━━━━━━━━━━━━━━━━━\u001b[0m\u001b[37m\u001b[0m \u001b[1m13s\u001b[0m 7ms/step - accuracy: 0.8826 - loss: 0.4252\n",
      "Epoch 2/50\n",
      "\u001b[1m1875/1875\u001b[0m \u001b[32m━━━━━━━━━━━━━━━━━━━━\u001b[0m\u001b[37m\u001b[0m \u001b[1m12s\u001b[0m 7ms/step - accuracy: 0.9828 - loss: 0.0551\n",
      "Epoch 3/50\n",
      "\u001b[1m1875/1875\u001b[0m \u001b[32m━━━━━━━━━━━━━━━━━━━━\u001b[0m\u001b[37m\u001b[0m \u001b[1m12s\u001b[0m 7ms/step - accuracy: 0.9889 - loss: 0.0361\n",
      "Epoch 4/50\n",
      "\u001b[1m1875/1875\u001b[0m \u001b[32m━━━━━━━━━━━━━━━━━━━━\u001b[0m\u001b[37m\u001b[0m \u001b[1m12s\u001b[0m 7ms/step - accuracy: 0.9912 - loss: 0.0284\n",
      "Epoch 5/50\n",
      "\u001b[1m1875/1875\u001b[0m \u001b[32m━━━━━━━━━━━━━━━━━━━━\u001b[0m\u001b[37m\u001b[0m \u001b[1m12s\u001b[0m 6ms/step - accuracy: 0.9932 - loss: 0.0199\n",
      "Epoch 6/50\n",
      "\u001b[1m1875/1875\u001b[0m \u001b[32m━━━━━━━━━━━━━━━━━━━━\u001b[0m\u001b[37m\u001b[0m \u001b[1m12s\u001b[0m 7ms/step - accuracy: 0.9953 - loss: 0.0154\n",
      "Epoch 7/50\n",
      "\u001b[1m1870/1875\u001b[0m \u001b[32m━━━━━━━━━━━━━━━━━━━\u001b[0m\u001b[37m━\u001b[0m \u001b[1m0s\u001b[0m 7ms/step - accuracy: 0.9962 - loss: 0.0116\n",
      "Reached > 0.995% accuracy thus stopping training.\n",
      "\u001b[1m1875/1875\u001b[0m \u001b[32m━━━━━━━━━━━━━━━━━━━━\u001b[0m\u001b[37m\u001b[0m \u001b[1m12s\u001b[0m 7ms/step - accuracy: 0.9962 - loss: 0.0117\n"
     ]
    },
    {
     "data": {
      "text/plain": [
       "<keras.src.callbacks.history.History at 0x307bdad80>"
      ]
     },
     "execution_count": 36,
     "metadata": {},
     "output_type": "execute_result"
    }
   ],
   "source": [
    "# train the model\n",
    "\n",
    "model.fit(training_images, training_labels, epochs=50, callbacks=[EarlyStoppingCallback()])"
   ]
  },
  {
   "cell_type": "code",
   "execution_count": 37,
   "id": "c939bf04-1d7d-4eb2-8045-ee17c37841c4",
   "metadata": {},
   "outputs": [
    {
     "name": "stdout",
     "output_type": "stream",
     "text": [
      "\u001b[1m313/313\u001b[0m \u001b[32m━━━━━━━━━━━━━━━━━━━━\u001b[0m\u001b[37m\u001b[0m \u001b[1m1s\u001b[0m 2ms/step\n",
      "99.13\n"
     ]
    }
   ],
   "source": [
    "predictions = model.predict(testing_images)\n",
    "predictions = np.argmax(predictions,axis=1)\n",
    "matches = (predictions == testing_labels)\n",
    "match_count = np.sum(matches)\n",
    "total_count = predictions.size\n",
    "success = (match_count / total_count) * 100\n",
    "print(success)"
   ]
  },
  {
   "cell_type": "code",
   "execution_count": null,
   "id": "55c3274b-9f6d-4094-a679-3f7990405cea",
   "metadata": {},
   "outputs": [],
   "source": []
  }
 ],
 "metadata": {
  "kernelspec": {
   "display_name": "Python 3.12 (numpy)",
   "language": "python",
   "name": "python312"
  },
  "language_info": {
   "codemirror_mode": {
    "name": "ipython",
    "version": 3
   },
   "file_extension": ".py",
   "mimetype": "text/x-python",
   "name": "python",
   "nbconvert_exporter": "python",
   "pygments_lexer": "ipython3",
   "version": "3.12.7"
  }
 },
 "nbformat": 4,
 "nbformat_minor": 5
}
